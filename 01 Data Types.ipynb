{
 "cells": [
  {
   "cell_type": "code",
   "execution_count": 3,
   "id": "838038d3",
   "metadata": {},
   "outputs": [
    {
     "name": "stdout",
     "output_type": "stream",
     "text": [
      "Enter value of a13\n",
      "Enter value of b7\n",
      "1.8571428571428572\n",
      "6\n"
     ]
    }
   ],
   "source": [
    "a=int(input(\"Enter value of a\"))\n",
    "b=int(input(\"Enter value of b\"))\n",
    "c=a/b\n",
    "d=a%b\n",
    "print(c)\n",
    "print(d)"
   ]
  },
  {
   "cell_type": "code",
   "execution_count": 6,
   "id": "45ff1b2a",
   "metadata": {},
   "outputs": [
    {
     "name": "stdout",
     "output_type": "stream",
     "text": [
      "Enter value of a13\n",
      "Enter value of b7\n",
      "1\n",
      "6\n"
     ]
    }
   ],
   "source": [
    "a=int(input(\"Enter value of a\"))\n",
    "b=int(input(\"Enter value of b\"))\n",
    "c=int(a/b)\n",
    "d=int(a%b)\n",
    "print(c)\n",
    "print(d)"
   ]
  },
  {
   "cell_type": "code",
   "execution_count": 13,
   "id": "e69ef4ab",
   "metadata": {},
   "outputs": [
    {
     "name": "stdout",
     "output_type": "stream",
     "text": [
      "<class 'int'>\n",
      "<class 'float'>\n",
      "<class 'str'>\n",
      "<class 'float'>\n",
      "<class 'complex'>\n",
      "<class 'bool'>\n"
     ]
    }
   ],
   "source": [
    "a=10\n",
    "b=1.6789\n",
    "c='dfbghnjmk'\n",
    "d=5.66\n",
    "e=(10+5j)\n",
    "f=True\n",
    "print(type(a))\n",
    "print(type(b))\n",
    "print(type(c))\n",
    "print(type(d))\n",
    "print(type(e))\n",
    "print(type(f))"
   ]
  }
 ],
 "metadata": {
  "kernelspec": {
   "display_name": "Python 3 (ipykernel)",
   "language": "python",
   "name": "python3"
  },
  "language_info": {
   "codemirror_mode": {
    "name": "ipython",
    "version": 3
   },
   "file_extension": ".py",
   "mimetype": "text/x-python",
   "name": "python",
   "nbconvert_exporter": "python",
   "pygments_lexer": "ipython3",
   "version": "3.11.3"
  }
 },
 "nbformat": 4,
 "nbformat_minor": 5
}
